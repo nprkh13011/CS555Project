{
 "cells": [
  {
   "cell_type": "code",
   "execution_count": 18,
   "metadata": {},
   "outputs": [],
   "source": [
    "import pandas as pd\n",
    "import numpy as np\n",
    "from sklearn.model_selection import train_test_split"
   ]
  },
  {
   "cell_type": "code",
   "execution_count": 19,
   "metadata": {},
   "outputs": [
    {
     "data": {
      "text/plain": [
       "(518400, 6)"
      ]
     },
     "execution_count": 19,
     "metadata": {},
     "output_type": "execute_result"
    }
   ],
   "source": [
    "EEG = pd.read_csv('RawWavesCombined.csv')\n",
    "EEG.shape"
   ]
  },
  {
   "cell_type": "code",
   "execution_count": 20,
   "metadata": {},
   "outputs": [
    {
     "data": {
      "text/html": [
       "<div>\n",
       "<style scoped>\n",
       "    .dataframe tbody tr th:only-of-type {\n",
       "        vertical-align: middle;\n",
       "    }\n",
       "\n",
       "    .dataframe tbody tr th {\n",
       "        vertical-align: top;\n",
       "    }\n",
       "\n",
       "    .dataframe thead th {\n",
       "        text-align: right;\n",
       "    }\n",
       "</style>\n",
       "<table border=\"1\" class=\"dataframe\">\n",
       "  <thead>\n",
       "    <tr style=\"text-align: right;\">\n",
       "      <th></th>\n",
       "      <th>Lie/Truth</th>\n",
       "    </tr>\n",
       "  </thead>\n",
       "  <tbody>\n",
       "    <tr>\n",
       "      <th>0</th>\n",
       "      <td>1</td>\n",
       "    </tr>\n",
       "    <tr>\n",
       "      <th>1</th>\n",
       "      <td>1</td>\n",
       "    </tr>\n",
       "    <tr>\n",
       "      <th>2</th>\n",
       "      <td>1</td>\n",
       "    </tr>\n",
       "    <tr>\n",
       "      <th>3</th>\n",
       "      <td>1</td>\n",
       "    </tr>\n",
       "    <tr>\n",
       "      <th>4</th>\n",
       "      <td>1</td>\n",
       "    </tr>\n",
       "    <tr>\n",
       "      <th>...</th>\n",
       "      <td>...</td>\n",
       "    </tr>\n",
       "    <tr>\n",
       "      <th>518395</th>\n",
       "      <td>0</td>\n",
       "    </tr>\n",
       "    <tr>\n",
       "      <th>518396</th>\n",
       "      <td>0</td>\n",
       "    </tr>\n",
       "    <tr>\n",
       "      <th>518397</th>\n",
       "      <td>0</td>\n",
       "    </tr>\n",
       "    <tr>\n",
       "      <th>518398</th>\n",
       "      <td>0</td>\n",
       "    </tr>\n",
       "    <tr>\n",
       "      <th>518399</th>\n",
       "      <td>0</td>\n",
       "    </tr>\n",
       "  </tbody>\n",
       "</table>\n",
       "<p>518400 rows × 1 columns</p>\n",
       "</div>"
      ],
      "text/plain": [
       "        Lie/Truth\n",
       "0               1\n",
       "1               1\n",
       "2               1\n",
       "3               1\n",
       "4               1\n",
       "...           ...\n",
       "518395          0\n",
       "518396          0\n",
       "518397          0\n",
       "518398          0\n",
       "518399          0\n",
       "\n",
       "[518400 rows x 1 columns]"
      ]
     },
     "execution_count": 20,
     "metadata": {},
     "output_type": "execute_result"
    }
   ],
   "source": [
    "Y_EEG = EEG[['Lie/Truth']]\n",
    "Y_EEG"
   ]
  },
  {
   "cell_type": "code",
   "execution_count": 21,
   "metadata": {},
   "outputs": [
    {
     "data": {
      "text/html": [
       "<div>\n",
       "<style scoped>\n",
       "    .dataframe tbody tr th:only-of-type {\n",
       "        vertical-align: middle;\n",
       "    }\n",
       "\n",
       "    .dataframe tbody tr th {\n",
       "        vertical-align: top;\n",
       "    }\n",
       "\n",
       "    .dataframe thead th {\n",
       "        text-align: right;\n",
       "    }\n",
       "</style>\n",
       "<table border=\"1\" class=\"dataframe\">\n",
       "  <thead>\n",
       "    <tr style=\"text-align: right;\">\n",
       "      <th></th>\n",
       "      <th>EEG.AF3</th>\n",
       "      <th>EEG.T7</th>\n",
       "      <th>EEG.Pz</th>\n",
       "      <th>EEG.T8</th>\n",
       "      <th>EEG.AF4</th>\n",
       "    </tr>\n",
       "  </thead>\n",
       "  <tbody>\n",
       "    <tr>\n",
       "      <th>0</th>\n",
       "      <td>24.98630</td>\n",
       "      <td>-26.45282</td>\n",
       "      <td>4.75641</td>\n",
       "      <td>-22.87943</td>\n",
       "      <td>43.64128</td>\n",
       "    </tr>\n",
       "    <tr>\n",
       "      <th>1</th>\n",
       "      <td>21.90964</td>\n",
       "      <td>-38.76044</td>\n",
       "      <td>13.98688</td>\n",
       "      <td>-19.80229</td>\n",
       "      <td>38.51335</td>\n",
       "    </tr>\n",
       "    <tr>\n",
       "      <th>2</th>\n",
       "      <td>14.72996</td>\n",
       "      <td>-46.96600</td>\n",
       "      <td>4.24323</td>\n",
       "      <td>-20.82816</td>\n",
       "      <td>37.48747</td>\n",
       "    </tr>\n",
       "    <tr>\n",
       "      <th>3</th>\n",
       "      <td>21.39646</td>\n",
       "      <td>-49.01727</td>\n",
       "      <td>10.39703</td>\n",
       "      <td>-34.16166</td>\n",
       "      <td>51.84636</td>\n",
       "    </tr>\n",
       "    <tr>\n",
       "      <th>4</th>\n",
       "      <td>18.31980</td>\n",
       "      <td>-59.27362</td>\n",
       "      <td>2.70514</td>\n",
       "      <td>-43.39213</td>\n",
       "      <td>41.07731</td>\n",
       "    </tr>\n",
       "    <tr>\n",
       "      <th>...</th>\n",
       "      <td>...</td>\n",
       "      <td>...</td>\n",
       "      <td>...</td>\n",
       "      <td>...</td>\n",
       "      <td>...</td>\n",
       "    </tr>\n",
       "    <tr>\n",
       "      <th>518395</th>\n",
       "      <td>208.98768</td>\n",
       "      <td>-10.78991</td>\n",
       "      <td>2.90862</td>\n",
       "      <td>4.54674</td>\n",
       "      <td>177.70769</td>\n",
       "    </tr>\n",
       "    <tr>\n",
       "      <th>518396</th>\n",
       "      <td>185.39784</td>\n",
       "      <td>-16.94371</td>\n",
       "      <td>5.47259</td>\n",
       "      <td>10.70055</td>\n",
       "      <td>164.88738</td>\n",
       "    </tr>\n",
       "    <tr>\n",
       "      <th>518397</th>\n",
       "      <td>179.24403</td>\n",
       "      <td>-0.53356</td>\n",
       "      <td>-2.21979</td>\n",
       "      <td>15.82897</td>\n",
       "      <td>164.88738</td>\n",
       "    </tr>\n",
       "    <tr>\n",
       "      <th>518398</th>\n",
       "      <td>192.57753</td>\n",
       "      <td>7.67152</td>\n",
       "      <td>-11.45026</td>\n",
       "      <td>5.05943</td>\n",
       "      <td>181.29754</td>\n",
       "    </tr>\n",
       "    <tr>\n",
       "      <th>518399</th>\n",
       "      <td>178.73133</td>\n",
       "      <td>-4.63610</td>\n",
       "      <td>-3.24518</td>\n",
       "      <td>-1.60707</td>\n",
       "      <td>163.34881</td>\n",
       "    </tr>\n",
       "  </tbody>\n",
       "</table>\n",
       "<p>518400 rows × 5 columns</p>\n",
       "</div>"
      ],
      "text/plain": [
       "          EEG.AF3    EEG.T7    EEG.Pz    EEG.T8    EEG.AF4\n",
       "0        24.98630 -26.45282   4.75641 -22.87943   43.64128\n",
       "1        21.90964 -38.76044  13.98688 -19.80229   38.51335\n",
       "2        14.72996 -46.96600   4.24323 -20.82816   37.48747\n",
       "3        21.39646 -49.01727  10.39703 -34.16166   51.84636\n",
       "4        18.31980 -59.27362   2.70514 -43.39213   41.07731\n",
       "...           ...       ...       ...       ...        ...\n",
       "518395  208.98768 -10.78991   2.90862   4.54674  177.70769\n",
       "518396  185.39784 -16.94371   5.47259  10.70055  164.88738\n",
       "518397  179.24403  -0.53356  -2.21979  15.82897  164.88738\n",
       "518398  192.57753   7.67152 -11.45026   5.05943  181.29754\n",
       "518399  178.73133  -4.63610  -3.24518  -1.60707  163.34881\n",
       "\n",
       "[518400 rows x 5 columns]"
      ]
     },
     "execution_count": 21,
     "metadata": {},
     "output_type": "execute_result"
    }
   ],
   "source": [
    "X_EEG = EEG[['EEG.AF3', 'EEG.T7', 'EEG.Pz', 'EEG.T8', 'EEG.AF4']]\n",
    "X_EEG"
   ]
  },
  {
   "cell_type": "code",
   "execution_count": 26,
   "metadata": {},
   "outputs": [],
   "source": [
    "X_train, X_test, Y_train, Y_test = train_test_split(X_EEG, Y_EEG, test_size= 0.15, random_state=8)\n",
    "X_train, X_validation, Y_train, Y_validation = train_test_split(X_train, Y_train, test_size=0.20, random_state=8)"
   ]
  },
  {
   "cell_type": "code",
   "execution_count": 28,
   "metadata": {},
   "outputs": [
    {
     "name": "stderr",
     "output_type": "stream",
     "text": [
      "c:\\Users\\kende\\anaconda3\\Lib\\site-packages\\sklearn\\ensemble\\_gb.py:424: DataConversionWarning: A column-vector y was passed when a 1d array was expected. Please change the shape of y to (n_samples, ), for example using ravel().\n",
      "  y = column_or_1d(y, warn=True)\n"
     ]
    },
    {
     "data": {
      "text/plain": [
       "0.9081275720164609"
      ]
     },
     "execution_count": 28,
     "metadata": {},
     "output_type": "execute_result"
    }
   ],
   "source": [
    "from sklearn.ensemble import GradientBoostingClassifier\n",
    "\n",
    "clf = GradientBoostingClassifier(n_estimators=500, learning_rate=0.05, max_depth=7, random_state=0).fit(X_train, Y_train)\n",
    "clf.score(X_test, Y_test)"
   ]
  }
 ],
 "metadata": {
  "kernelspec": {
   "display_name": "Python 3",
   "language": "python",
   "name": "python3"
  },
  "language_info": {
   "codemirror_mode": {
    "name": "ipython",
    "version": 3
   },
   "file_extension": ".py",
   "mimetype": "text/x-python",
   "name": "python",
   "nbconvert_exporter": "python",
   "pygments_lexer": "ipython3",
   "version": "3.11.5"
  }
 },
 "nbformat": 4,
 "nbformat_minor": 2
}
